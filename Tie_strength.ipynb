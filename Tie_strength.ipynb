{
  "nbformat": 4,
  "nbformat_minor": 0,
  "metadata": {
    "colab": {
      "name": "Tie_strength.ipynb",
      "provenance": [],
      "authorship_tag": "ABX9TyPDqp8qPHD5bazkQSjbRPff",
      "include_colab_link": true
    },
    "kernelspec": {
      "name": "python3",
      "display_name": "Python 3"
    },
    "language_info": {
      "name": "python"
    }
  },
  "cells": [
    {
      "cell_type": "markdown",
      "metadata": {
        "id": "view-in-github",
        "colab_type": "text"
      },
      "source": [
        "<a href=\"https://colab.research.google.com/github/fayesatari/Tie_strength/blob/main/Tie_strength.ipynb\" target=\"_parent\"><img src=\"https://colab.research.google.com/assets/colab-badge.svg\" alt=\"Open In Colab\"/></a>"
      ]
    },
    {
      "cell_type": "code",
      "metadata": {
        "id": "zZlWHRzN7gfO"
      },
      "source": [
        "import pandas as pd\n",
        "import numpy as np"
      ],
      "execution_count": 1,
      "outputs": []
    },
    {
      "cell_type": "code",
      "metadata": {
        "id": "FXD772jk7i9b"
      },
      "source": [
        "df = pd.read_excel (\"tie.xlsx\") \n",
        "\n",
        "movieLists = df['Movie'].unique()\n",
        "crewLists = df['Crew'].unique()\n",
        "\n",
        "crewDF = pd.DataFrame( 0 , index=crewLists , columns =crewLists )\n",
        "FinalValues= []"
      ],
      "execution_count": 2,
      "outputs": []
    },
    {
      "cell_type": "code",
      "metadata": {
        "id": "abfFosC99b5m"
      },
      "source": [
        "y=0\n",
        "dt = df.groupby(['Movie' ])\n",
        "for x in movieLists:\n",
        "  movie=dt.get_group(x)\n",
        "  crew = movie['Crew']\n",
        "  datamovie=movie.iloc[0]\n",
        "  for first in crew:\n",
        "    for second in crew:\n",
        "      if not (first == second ):\n",
        "        crewDF[first][second] +=1\n",
        "        FinalValues.append([])\n",
        "        tmparr =[datamovie['Movie'] , datamovie['MovieCode'] , datamovie['Year'],\n",
        "                           first , movie.loc[movie['Crew'].eq(first), 'newcode'].values[0],\n",
        "                           second ,movie.loc[movie['Crew'].eq(second), 'newcode'].values[0], 1]\n",
        "        FinalValues[y]= tmparr\n",
        "        y=y+1\n"
      ],
      "execution_count": 3,
      "outputs": []
    },
    {
      "cell_type": "code",
      "metadata": {
        "id": "rZwTW1ZSBneA"
      },
      "source": [
        "for row in FinalValues:\n",
        "  row[7] = crewDF[row[3]][row[5]]\n",
        "  \n",
        "dfresult = pd.DataFrame(FinalValues ,columns=['Movie','MovieCode','Year','Crew 1_name','Code 1','Crew 2_name','Code2', 'Tie strength']) \n",
        "dfresult.to_csv('result.csv') \n",
        "\n",
        "crewDF.to_csv('Matrix.csv') "
      ],
      "execution_count": 4,
      "outputs": []
    }
  ]
}